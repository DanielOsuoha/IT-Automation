{
  "nbformat": 4,
  "nbformat_minor": 0,
  "metadata": {
    "colab": {
      "provenance": [],
      "toc_visible": true,
      "authorship_tag": "ABX9TyPcblZHT4jr4kYE1S7Wvlm+",
      "include_colab_link": true
    },
    "kernelspec": {
      "name": "python3",
      "display_name": "Python 3"
    },
    "language_info": {
      "name": "python"
    }
  },
  "cells": [
    {
      "cell_type": "markdown",
      "metadata": {
        "id": "view-in-github",
        "colab_type": "text"
      },
      "source": [
        "<a href=\"https://colab.research.google.com/github/DanielOsuoha/IT-Automation/blob/main/Regexes.ipynb\" target=\"_parent\"><img src=\"https://colab.research.google.com/assets/colab-badge.svg\" alt=\"Open In Colab\"/></a>"
      ]
    },
    {
      "cell_type": "code",
      "execution_count": 1,
      "metadata": {
        "id": "zFHboGEa_gCA"
      },
      "outputs": [],
      "source": []
    },
    {
      "cell_type": "code",
      "source": [
        "#instead of using this\n",
        "log = \"July 31 07:51:48 mycomputer bad_process[12345]: ERROR Performing [32342]package upgrade\"\n",
        "# index = log.index('[')\n",
        "# print(log[index+1:index+6])\n",
        "\n",
        "#use regex to pick out the integers\n",
        "import re\n",
        "pattern = r'\\d\\d\\d\\d\\d'\n",
        "#better still\n",
        "pattern = r'\\[\\d{5}\\]' # or r'\\[\\d+\\]'\n",
        "\n",
        "# this is the difference between the search and the findall methods\n",
        "match = re.findall(pattern, log) # -> a list of all the matches\n",
        "\n",
        "match = re.search(pattern, log) # -> returns the first match as a Match object\n",
        "\n",
        "print(match)"
      ],
      "metadata": {
        "colab": {
          "base_uri": "https://localhost:8080/"
        },
        "id": "J4IN0yK7DG3L",
        "outputId": "9a1a2aaa-488b-4bec-a0bb-52808beb69c5"
      },
      "execution_count": 30,
      "outputs": [
        {
          "output_type": "stream",
          "name": "stdout",
          "text": [
            "<re.Match object; span=(39, 46), match='[12345]'>\n"
          ]
        }
      ]
    },
    {
      "cell_type": "code",
      "source": [
        "print(re.search(r'^x.{2}o','xenon'))\n",
        "\n",
        "#using $ to search the end of a line\n",
        "pattern = r'[aeiou]{2}$'\n",
        "print(re.search(pattern, 'zoo'))\n",
        "\n",
        "\n",
        "\n",
        "text = input('Enter the a string ending with two vowels: ')\n",
        "if re.search(pattern, text):\n",
        "  print('Right format!!')\n",
        "else:\n",
        "  print('Wrong Format!!')"
      ],
      "metadata": {
        "colab": {
          "base_uri": "https://localhost:8080/"
        },
        "id": "Oas4QWf8Eczb",
        "outputId": "80d3855b-0421-408f-a3ec-d2d26e87f2b0"
      },
      "execution_count": 42,
      "outputs": [
        {
          "output_type": "stream",
          "name": "stdout",
          "text": [
            "<re.Match object; span=(0, 4), match='xeno'>\n",
            "<re.Match object; span=(1, 3), match='oo'>\n",
            "Enter the a string ending with two vowels: sorry for that naa\n",
            "Right format\n"
          ]
        }
      ]
    },
    {
      "cell_type": "code",
      "source": [],
      "metadata": {
        "id": "YwhF5rF1NMoK"
      },
      "execution_count": 41,
      "outputs": []
    }
  ]
}