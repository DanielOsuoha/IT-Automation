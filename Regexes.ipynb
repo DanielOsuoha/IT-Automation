{
  "nbformat": 4,
  "nbformat_minor": 0,
  "metadata": {
    "colab": {
      "provenance": [],
      "toc_visible": true,
      "authorship_tag": "ABX9TyMd7BLUtvunKDkhpRn3YBln",
      "include_colab_link": true
    },
    "kernelspec": {
      "name": "python3",
      "display_name": "Python 3"
    },
    "language_info": {
      "name": "python"
    }
  },
  "cells": [
    {
      "cell_type": "markdown",
      "metadata": {
        "id": "view-in-github",
        "colab_type": "text"
      },
      "source": [
        "<a href=\"https://colab.research.google.com/github/DanielOsuoha/IT-Automation/blob/main/Regexes.ipynb\" target=\"_parent\"><img src=\"https://colab.research.google.com/assets/colab-badge.svg\" alt=\"Open In Colab\"/></a>"
      ]
    },
    {
      "cell_type": "code",
      "execution_count": 1,
      "metadata": {
        "id": "zFHboGEa_gCA"
      },
      "outputs": [],
      "source": []
    },
    {
      "cell_type": "code",
      "source": [
        "#instead of using this\n",
        "log = \"July 31 07:51:48 mycomputer bad_process[12345]: ERROR Performing [32342]package upgrade\"\n",
        "# index = log.index('[')\n",
        "# print(log[index+1:index+6])\n",
        "\n",
        "#use regex to pick out the integers\n",
        "import re\n",
        "pattern = r'\\d\\d\\d\\d\\d'\n",
        "#better still\n",
        "pattern = r'\\[\\d{5}\\]' # or r'\\[\\d+\\]'\n",
        "\n",
        "# this is the difference between the search and the findall methods\n",
        "match = re.findall(pattern, log) # -> a list of all the matches\n",
        "\n",
        "match = re.search(pattern, log) # -> returns the first match as a Match object\n",
        "\n",
        "print(match)"
      ],
      "metadata": {
        "colab": {
          "base_uri": "https://localhost:8080/"
        },
        "id": "J4IN0yK7DG3L",
        "outputId": "9a1a2aaa-488b-4bec-a0bb-52808beb69c5"
      },
      "execution_count": 30,
      "outputs": [
        {
          "output_type": "stream",
          "name": "stdout",
          "text": [
            "<re.Match object; span=(39, 46), match='[12345]'>\n"
          ]
        }
      ]
    },
    {
      "cell_type": "code",
      "source": [
        "import re\n",
        "dir(re.Match)\n"
      ],
      "metadata": {
        "colab": {
          "base_uri": "https://localhost:8080/"
        },
        "id": "Memp21_ADZGr",
        "outputId": "aaae1ed1-7ed6-4a98-d785-828d90990953"
      },
      "execution_count": 29,
      "outputs": [
        {
          "output_type": "execute_result",
          "data": {
            "text/plain": [
              "['__class__',\n",
              " '__class_getitem__',\n",
              " '__copy__',\n",
              " '__deepcopy__',\n",
              " '__delattr__',\n",
              " '__dir__',\n",
              " '__doc__',\n",
              " '__eq__',\n",
              " '__format__',\n",
              " '__ge__',\n",
              " '__getattribute__',\n",
              " '__getitem__',\n",
              " '__gt__',\n",
              " '__hash__',\n",
              " '__init__',\n",
              " '__init_subclass__',\n",
              " '__le__',\n",
              " '__lt__',\n",
              " '__module__',\n",
              " '__ne__',\n",
              " '__new__',\n",
              " '__reduce__',\n",
              " '__reduce_ex__',\n",
              " '__repr__',\n",
              " '__setattr__',\n",
              " '__sizeof__',\n",
              " '__str__',\n",
              " '__subclasshook__',\n",
              " 'end',\n",
              " 'endpos',\n",
              " 'expand',\n",
              " 'group',\n",
              " 'groupdict',\n",
              " 'groups',\n",
              " 'lastgroup',\n",
              " 'lastindex',\n",
              " 'pos',\n",
              " 're',\n",
              " 'regs',\n",
              " 'span',\n",
              " 'start',\n",
              " 'string']"
            ]
          },
          "metadata": {},
          "execution_count": 29
        }
      ]
    },
    {
      "cell_type": "code",
      "source": [
        "help(re.Match.group)"
      ],
      "metadata": {
        "colab": {
          "base_uri": "https://localhost:8080/"
        },
        "id": "RoGrxe5yESht",
        "outputId": "c1d9f4ee-f345-4683-9754-ba68bf23bd3f"
      },
      "execution_count": 11,
      "outputs": [
        {
          "output_type": "stream",
          "name": "stdout",
          "text": [
            "Help on method_descriptor:\n",
            "\n",
            "group(...)\n",
            "    group([group1, ...]) -> str or tuple.\n",
            "    Return subgroup(s) of the match by indices or names.\n",
            "    For 0 returns the entire match.\n",
            "\n"
          ]
        }
      ]
    },
    {
      "cell_type": "code",
      "source": [],
      "metadata": {
        "id": "Oas4QWf8Eczb"
      },
      "execution_count": null,
      "outputs": []
    }
  ]
}